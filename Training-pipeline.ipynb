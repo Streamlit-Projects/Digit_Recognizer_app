{
 "cells": [
  {
   "cell_type": "markdown",
   "id": "91311e2c",
   "metadata": {},
   "source": [
    "# Imports"
   ]
  },
  {
   "cell_type": "code",
   "execution_count": 1,
   "id": "4d6a2cc2",
   "metadata": {},
   "outputs": [],
   "source": [
    "import numpy as np \n",
    "import pandas as pd \n",
    "import matplotlib.pyplot as plt \n",
    "\n",
    "import torch \n",
    "import torch.nn.functional as F \n",
    "\n",
    "from tqdm.notebook import tqdm\n",
    "import utils"
   ]
  },
  {
   "cell_type": "markdown",
   "id": "649abec5",
   "metadata": {},
   "source": [
    "# Load MNIST Handwritten Dataset"
   ]
  },
  {
   "cell_type": "code",
   "execution_count": 2,
   "id": "85e71f8a",
   "metadata": {},
   "outputs": [],
   "source": [
    "from torchvision import datasets \n",
    "from torchvision import transforms as T"
   ]
  },
  {
   "cell_type": "code",
   "execution_count": 3,
   "id": "a9c4b891",
   "metadata": {},
   "outputs": [],
   "source": [
    "train_augs = T.Compose([\n",
    "    T.RandomHorizontalFlip(p=0.5),\n",
    "    T.RandomVerticalFlip(p=0.5),\n",
    "    T.ToTensor(),\n",
    "    T.Normalize(mean=0.5, std=0.5)\n",
    "])\n",
    "\n",
    "valid_augs = T.Compose([\n",
    "    T.ToTensor(),\n",
    "    T.Normalize(mean=0.5, std=0.5)\n",
    "])"
   ]
  },
  {
   "cell_type": "code",
   "execution_count": 4,
   "id": "f93bf2de",
   "metadata": {},
   "outputs": [],
   "source": [
    "trainset = datasets.MNIST('./', download = False, train = True, transform = train_augs)\n",
    "testset = datasets.MNIST('./', download = False, train = False, transform = valid_augs)"
   ]
  },
  {
   "cell_type": "code",
   "execution_count": 5,
   "id": "9e0622d4",
   "metadata": {},
   "outputs": [],
   "source": [
    "trainset, validset = torch.utils.data.random_split(trainset, [50000,10000])"
   ]
  },
  {
   "cell_type": "code",
   "execution_count": 6,
   "id": "f36e146c",
   "metadata": {},
   "outputs": [
    {
     "name": "stdout",
     "output_type": "stream",
     "text": [
      "Size of trainset : 50000\n",
      "Size of validset : 10000\n",
      "Size of testset : 10000\n"
     ]
    }
   ],
   "source": [
    "print(f\"Size of trainset : {len(trainset)}\")\n",
    "print(f\"Size of validset : {len(validset)}\")\n",
    "print(f\"Size of testset : {len(testset)}\")"
   ]
  },
  {
   "cell_type": "code",
   "execution_count": 7,
   "id": "5c014f3d",
   "metadata": {},
   "outputs": [
    {
     "name": "stdout",
     "output_type": "stream",
     "text": [
      "shape of image : torch.Size([1, 28, 28])\n",
      "For visualization we need (h x w x c) so using permute shape will be : torch.Size([28, 28, 1])\n"
     ]
    },
    {
     "data": {
      "image/png": "[encoded data removed]",
      "text/plain": [
       "<Figure size 432x288 with 1 Axes>"
      ]
     },
     "metadata": {
      "needs_background": "light"
     },
     "output_type": "display_data"
    }
   ],
   "source": [
    "idx = 1\n",
    "image, label = trainset[idx]\n",
    "\n",
    "print(f'shape of image : {image.shape}')\n",
    "\n",
    "print(f'For visualization we need (h x w x c) so using permute shape will be : {image.permute(1, 2, 0).shape}')\n",
    "\n",
    "plt.imshow(image.permute(1, 2, 0), cmap = 'gray')\n",
    "plt.title(label);"
   ]
  },
  {
   "cell_type": "markdown",
   "id": "a335aba4",
   "metadata": {},
   "source": [
    "# Load Dataset into batches"
   ]
  },
  {
   "cell_type": "code",
   "execution_count": 8,
   "id": "f7c7cc11",
   "metadata": {},
   "outputs": [],
   "source": [
    "from torch.utils.data import DataLoader"
   ]
  },
  {
   "cell_type": "code",
   "execution_count": 9,
   "id": "b6c936f6",
   "metadata": {},
   "outputs": [],
   "source": [
    "bs = 64\n",
    "trainloader = DataLoader(trainset,batch_size = bs, shuffle = True)\n",
    "validloader = DataLoader(validset,batch_size = bs)\n",
    "testloader = DataLoader(testset,batch_size = bs)"
   ]
  },
  {
   "cell_type": "code",
   "execution_count": 10,
   "id": "3a48cc57",
   "metadata": {},
   "outputs": [
    {
     "name": "stdout",
     "output_type": "stream",
     "text": [
      "Total no. of batches in trainloader : 782\n",
      "Total no. of batches in validloader : 157\n",
      "Total no. of batches in testloader : 157\n"
     ]
    }
   ],
   "source": [
    "print(f'Total no. of batches in trainloader : {len(trainloader)}')\n",
    "print(f'Total no. of batches in validloader : {len(validloader)}')\n",
    "print(f'Total no. of batches in testloader : {len(testloader)}')"
   ]
  },
  {
   "cell_type": "code",
   "execution_count": 11,
   "id": "4d1c00d5",
   "metadata": {},
   "outputs": [
    {
     "name": "stdout",
     "output_type": "stream",
     "text": [
      "One image batch shape : torch.Size([64, 1, 28, 28])\n",
      "One image labels shape : torch.Size([64])\n"
     ]
    }
   ],
   "source": [
    "for images, labels in trainloader:\n",
    "    print(f'One image batch shape : {images.shape}')\n",
    "    print(f'One image labels shape : {labels.shape}')\n",
    "    break;\n",
    "    "
   ]
  },
  {
   "cell_type": "markdown",
   "id": "cca45152",
   "metadata": {},
   "source": [
    "# Load Model "
   ]
  },
  {
   "cell_type": "code",
   "execution_count": 12,
   "id": "b7b155bd",
   "metadata": {},
   "outputs": [
    {
     "data": {
      "text/plain": [
       "DigitModel(\n",
       "  (cnn_block): Sequential(\n",
       "    (0): Conv2d(1, 8, kernel_size=(3, 3), stride=(1, 1), padding=(1, 1))\n",
       "    (1): BatchNorm2d(8, eps=1e-05, momentum=0.1, affine=True, track_running_stats=True)\n",
       "    (2): ReLU()\n",
       "    (3): Conv2d(8, 16, kernel_size=(3, 3), stride=(1, 1), padding=(1, 1))\n",
       "    (4): BatchNorm2d(16, eps=1e-05, momentum=0.1, affine=True, track_running_stats=True)\n",
       "    (5): ReLU()\n",
       "    (6): MaxPool2d(kernel_size=(2, 2), stride=(2, 2), padding=0, dilation=1, ceil_mode=False)\n",
       "    (7): Conv2d(16, 32, kernel_size=(3, 3), stride=(1, 1), padding=(1, 1))\n",
       "    (8): BatchNorm2d(32, eps=1e-05, momentum=0.1, affine=True, track_running_stats=True)\n",
       "    (9): ReLU()\n",
       "    (10): MaxPool2d(kernel_size=(2, 2), stride=(2, 2), padding=0, dilation=1, ceil_mode=False)\n",
       "  )\n",
       "  (linear_block): Sequential(\n",
       "    (0): Flatten(start_dim=1, end_dim=-1)\n",
       "    (1): Linear(in_features=1568, out_features=512, bias=True)\n",
       "    (2): ReLU()\n",
       "    (3): Dropout(p=0.5, inplace=False)\n",
       "    (4): Linear(in_features=512, out_features=256, bias=True)\n",
       "    (5): ReLU()\n",
       "    (6): Dropout(p=0.5, inplace=False)\n",
       "    (7): Linear(in_features=256, out_features=10, bias=True)\n",
       "  )\n",
       ")"
      ]
     },
     "execution_count": 12,
     "metadata": {},
     "output_type": "execute_result"
    }
   ],
   "source": [
    "from models import DigitModel\n",
    "\n",
    "model = DigitModel()\n",
    "model.to('cpu')"
   ]
  },
  {
   "cell_type": "markdown",
   "id": "1b5c3b7f",
   "metadata": {},
   "source": [
    "# Create Train and Eval Function"
   ]
  },
  {
   "cell_type": "code",
   "execution_count": 13,
   "id": "7f2c650e",
   "metadata": {},
   "outputs": [],
   "source": [
    "def train_fn(model, dataloader, criterion, optimizer):\n",
    "    model.train()\n",
    "    total_loss =0.0\n",
    "    total_acc=0.0\n",
    "    \n",
    "    for images, labels in tqdm(dataloader):\n",
    "        \n",
    "        images = images.to('cpu')\n",
    "        labels = labels.to('cpu')\n",
    "        \n",
    "        optimizer.zero_grad()\n",
    "        logits = model(images)\n",
    "        loss = criterion(logits, labels)\n",
    "        loss.backward()\n",
    "        optimizer.step()\n",
    "        \n",
    "        total_loss += loss.item()        \n",
    "        total_acc += utils.multiclass_accuracy(logits, labels)\n",
    "        \n",
    "    return total_loss / len(dataloader), total_acc / len(dataloader)    \n",
    "        "
   ]
  },
  {
   "cell_type": "code",
   "execution_count": 14,
   "id": "afae506d",
   "metadata": {},
   "outputs": [],
   "source": [
    "def eval_fn(model, dataloader, criterion):\n",
    "    \n",
    "    model.eval()\n",
    "    total_loss =0.0\n",
    "    total_acc=0.0\n",
    "    \n",
    "    with torch.no_grad():\n",
    "        \n",
    "        for images, labels in tqdm(dataloader):\n",
    "            \n",
    "            images = images.to('cpu')\n",
    "            labels = labels.to('cpu')\n",
    "        \n",
    "            logits = model(images)\n",
    "            loss = criterion(logits, labels)\n",
    "        \n",
    "            total_loss += loss.item()        \n",
    "            total_acc += utils.multiclass_accuracy(logits, labels)\n",
    "        \n",
    "        return total_loss / len(dataloader), total_acc / len(dataloader)    \n",
    "        "
   ]
  },
  {
   "cell_type": "markdown",
   "id": "20c7d43b",
   "metadata": {},
   "source": [
    "# Training Loop "
   ]
  },
  {
   "cell_type": "code",
   "execution_count": 15,
   "id": "b9bc2b28",
   "metadata": {},
   "outputs": [],
   "source": [
    "criterion = torch.nn.CrossEntropyLoss()\n",
    "optimizer = torch.optim.Adam(model.parameters(), lr = 0.003)"
   ]
  },
  {
   "cell_type": "code",
   "execution_count": 16,
   "id": "4ab29b22",
   "metadata": {},
   "outputs": [
    {
     "data": {
      "application/vnd.jupyter.widget-view+json": {
       "model_id": "e3baf93f81034d938c8ebce099c61996",
       "version_major": 2,
       "version_minor": 0
      },
      "text/plain": [
       "  0%|          | 0/782 [00:00<?, ?it/s]"
      ]
     },
     "metadata": {},
     "output_type": "display_data"
    },
    {
     "data": {
      "application/vnd.jupyter.widget-view+json": {
       "model_id": "b4d39849fdaa4cf3b500ce0cbf9eb7d8",
       "version_major": 2,
       "version_minor": 0
      },
      "text/plain": [
       "  0%|          | 0/782 [00:00<?, ?it/s]"
      ]
     },
     "metadata": {},
     "output_type": "display_data"
    },
    {
     "name": "stdout",
     "output_type": "stream",
     "text": [
      "Epoch 1 Train Loss : 0.7355803217538788 Train Acc : 0.7496004104614258\n",
      "Epoch 1 Valid Loss : 0.2369700462731254 Valid Acc : 0.9307065010070801\n",
      "SAVED BEST MODEL\n"
     ]
    },
    {
     "data": {
      "application/vnd.jupyter.widget-view+json": {
       "model_id": "7e6aa2fb3f0442748aa26800c090784d",
       "version_major": 2,
       "version_minor": 0
      },
      "text/plain": [
       "  0%|          | 0/782 [00:00<?, ?it/s]"
      ]
     },
     "metadata": {},
     "output_type": "display_data"
    },
    {
     "data": {
      "application/vnd.jupyter.widget-view+json": {
       "model_id": "77b6a8288dcd45e5ac056799b6f180ca",
       "version_major": 2,
       "version_minor": 0
      },
      "text/plain": [
       "  0%|          | 0/782 [00:00<?, ?it/s]"
      ]
     },
     "metadata": {},
     "output_type": "display_data"
    },
    {
     "name": "stdout",
     "output_type": "stream",
     "text": [
      "Epoch 2 Train Loss : 0.37504567488875534 Train Acc : 0.8852701187133789\n",
      "Epoch 2 Valid Loss : 0.1849756336978177 Valid Acc : 0.9468910098075867\n",
      "SAVED BEST MODEL\n"
     ]
    },
    {
     "data": {
      "application/vnd.jupyter.widget-view+json": {
       "model_id": "7a670de887b24581895995d7247b09d5",
       "version_major": 2,
       "version_minor": 0
      },
      "text/plain": [
       "  0%|          | 0/782 [00:00<?, ?it/s]"
      ]
     },
     "metadata": {},
     "output_type": "display_data"
    },
    {
     "data": {
      "application/vnd.jupyter.widget-view+json": {
       "model_id": "07c02382cdd94150812e3e2c3c873ca6",
       "version_major": 2,
       "version_minor": 0
      },
      "text/plain": [
       "  0%|          | 0/782 [00:00<?, ?it/s]"
      ]
     },
     "metadata": {},
     "output_type": "display_data"
    },
    {
     "name": "stdout",
     "output_type": "stream",
     "text": [
      "Epoch 3 Train Loss : 0.2940767643939885 Train Acc : 0.9103260636329651\n",
      "Epoch 3 Valid Loss : 0.14974048952131397 Valid Acc : 0.9563818573951721\n",
      "SAVED BEST MODEL\n"
     ]
    },
    {
     "data": {
      "application/vnd.jupyter.widget-view+json": {
       "model_id": "0b460dce4f854633a883ce284435b7cf",
       "version_major": 2,
       "version_minor": 0
      },
      "text/plain": [
       "  0%|          | 0/782 [00:00<?, ?it/s]"
      ]
     },
     "metadata": {},
     "output_type": "display_data"
    },
    {
     "data": {
      "application/vnd.jupyter.widget-view+json": {
       "model_id": "0a7612d2f9c84918a108420603767f53",
       "version_major": 2,
       "version_minor": 0
      },
      "text/plain": [
       "  0%|          | 0/782 [00:00<?, ?it/s]"
      ]
     },
     "metadata": {},
     "output_type": "display_data"
    },
    {
     "name": "stdout",
     "output_type": "stream",
     "text": [
      "Epoch 4 Train Loss : 0.2576599195409004 Train Acc : 0.9221746921539307\n",
      "Epoch 4 Valid Loss : 0.13674413035516544 Valid Acc : 0.9581401944160461\n",
      "SAVED BEST MODEL\n"
     ]
    },
    {
     "data": {
      "application/vnd.jupyter.widget-view+json": {
       "model_id": "b556d8fa0b094aa5aadf421faed096f2",
       "version_major": 2,
       "version_minor": 0
      },
      "text/plain": [
       "  0%|          | 0/782 [00:00<?, ?it/s]"
      ]
     },
     "metadata": {},
     "output_type": "display_data"
    },
    {
     "data": {
      "application/vnd.jupyter.widget-view+json": {
       "model_id": "683a815e00064fcd95796eb67fc186b1",
       "version_major": 2,
       "version_minor": 0
      },
      "text/plain": [
       "  0%|          | 0/782 [00:00<?, ?it/s]"
      ]
     },
     "metadata": {},
     "output_type": "display_data"
    },
    {
     "name": "stdout",
     "output_type": "stream",
     "text": [
      "Epoch 5 Train Loss : 0.23564462259869137 Train Acc : 0.9286684989929199\n",
      "Epoch 5 Valid Loss : 0.12621127600874513 Valid Acc : 0.9621962904930115\n",
      "SAVED BEST MODEL\n"
     ]
    },
    {
     "data": {
      "application/vnd.jupyter.widget-view+json": {
       "model_id": "13defeaebeb5465bb3ca26e066046fe2",
       "version_major": 2,
       "version_minor": 0
      },
      "text/plain": [
       "  0%|          | 0/782 [00:00<?, ?it/s]"
      ]
     },
     "metadata": {},
     "output_type": "display_data"
    },
    {
     "data": {
      "application/vnd.jupyter.widget-view+json": {
       "model_id": "4577a4cab57245c8b30d017222ae3888",
       "version_major": 2,
       "version_minor": 0
      },
      "text/plain": [
       "  0%|          | 0/782 [00:00<?, ?it/s]"
      ]
     },
     "metadata": {},
     "output_type": "display_data"
    },
    {
     "name": "stdout",
     "output_type": "stream",
     "text": [
      "Epoch 6 Train Loss : 0.2165826725775895 Train Acc : 0.9366608262062073\n",
      "Epoch 6 Valid Loss : 0.11598136129162614 Valid Acc : 0.9641743898391724\n",
      "SAVED BEST MODEL\n"
     ]
    },
    {
     "data": {
      "application/vnd.jupyter.widget-view+json": {
       "model_id": "e2d643585ad94699a70c50c5ece93563",
       "version_major": 2,
       "version_minor": 0
      },
      "text/plain": [
       "  0%|          | 0/782 [00:00<?, ?it/s]"
      ]
     },
     "metadata": {},
     "output_type": "display_data"
    },
    {
     "data": {
      "application/vnd.jupyter.widget-view+json": {
       "model_id": "78c7352adcfb43529d9deafa47c79b2c",
       "version_major": 2,
       "version_minor": 0
      },
      "text/plain": [
       "  0%|          | 0/782 [00:00<?, ?it/s]"
      ]
     },
     "metadata": {},
     "output_type": "display_data"
    },
    {
     "name": "stdout",
     "output_type": "stream",
     "text": [
      "Epoch 7 Train Loss : 0.20898178218366087 Train Acc : 0.9386588931083679\n",
      "Epoch 7 Valid Loss : 0.10124377158763426 Valid Acc : 0.9703285098075867\n",
      "SAVED BEST MODEL\n"
     ]
    }
   ],
   "source": [
    "best_valid_loss = np.Inf\n",
    "\n",
    "for i in range(7):\n",
    "    \n",
    "    train_loss, train_acc = train_fn(model, trainloader, criterion, optimizer)\n",
    "    valid_loss, valid_acc = eval_fn(model, trainloader, criterion)\n",
    "    \n",
    "    print(f\"Epoch {i+1} Train Loss : {train_loss} Train Acc : {train_acc}\")\n",
    "    print(f\"Epoch {i+1} Valid Loss : {valid_loss} Valid Acc : {valid_acc}\")\n",
    "          \n",
    "    if valid_loss < best_valid_loss:\n",
    "          torch.save(model.state_dict(), 'best_weights.pt')\n",
    "          print('SAVED BEST MODEL')\n",
    "          best_valid_loss = valid_loss\n",
    "          "
   ]
  },
  {
   "cell_type": "markdown",
   "id": "cfacb4ce",
   "metadata": {},
   "source": [
    "# Inference"
   ]
  },
  {
   "cell_type": "code",
   "execution_count": 17,
   "id": "505bf818",
   "metadata": {},
   "outputs": [
    {
     "data": {
      "image/png": "[encoded data removed]",
      "text/plain": [
       "<Figure size 432x648 with 2 Axes>"
      ]
     },
     "metadata": {
      "needs_background": "light"
     },
     "output_type": "display_data"
    }
   ],
   "source": [
    "image, label = testset[0]\n",
    "\n",
    "weights = torch.load('best_weights.pt')\n",
    "model.load_state_dict(weights)\n",
    "\n",
    "model.eval()\n",
    "with torch.no_grad():\n",
    "    logits=model(image.unsqueeze(0))\n",
    "    ps = torch.nn.Softmax(dim = 1)(logits)[0]\n",
    "    utils.view_classify(image, ps)"
   ]
  }
 ],
 "metadata": {
  "kernelspec": {
   "display_name": "Python 3",
   "language": "python",
   "name": "python3"
  },
  "language_info": {
   "codemirror_mode": {
    "name": "ipython",
    "version": 3
   },
   "file_extension": ".py",
   "mimetype": "text/x-python",
   "name": "python",
   "nbconvert_exporter": "python",
   "pygments_lexer": "ipython3",
   "version": "3.6.9"
  }
 },
 "nbformat": 4,
 "nbformat_minor": 5
}
